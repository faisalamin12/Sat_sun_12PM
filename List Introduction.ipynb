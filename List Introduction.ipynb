{
 "cells": [
  {
   "cell_type": "markdown",
   "id": "71e16434",
   "metadata": {},
   "source": [
    "# Python Lists\n",
    "\n",
    "1. Lists are ordered collection of data items.\n",
    "\n",
    "2. They store multiple items in a single variable.\n",
    "\n",
    "3. List items are separated by commas and enclosed within square brackets [].\n",
    "\n",
    "4. Lists are changeable meaning we can alter them after creation.\n"
   ]
  },
  {
   "cell_type": "code",
   "execution_count": 7,
   "id": "0b2e7c06",
   "metadata": {},
   "outputs": [
    {
     "name": "stdout",
     "output_type": "stream",
     "text": [
      "[1, 2, 3, 4, 5]\n"
     ]
    }
   ],
   "source": [
    "a = [1,2,3,4,5]\n",
    "print(a)"
   ]
  },
  {
   "cell_type": "code",
   "execution_count": 8,
   "id": "8a6f5d69",
   "metadata": {},
   "outputs": [
    {
     "name": "stdout",
     "output_type": "stream",
     "text": [
      "[1, 2, 4, 6]\n"
     ]
    }
   ],
   "source": [
    "lst_1 = [1,2,4,6]\n",
    "print(lst_1)"
   ]
  },
  {
   "cell_type": "code",
   "execution_count": 5,
   "id": "ea591080",
   "metadata": {},
   "outputs": [
    {
     "name": "stdout",
     "output_type": "stream",
     "text": [
      "['Red', 'Green', 'Blue']\n"
     ]
    }
   ],
   "source": [
    "lst_2 = [\"Red\" , \"Green\" , \"Blue\"]\n",
    "print(lst_2)"
   ]
  },
  {
   "cell_type": "code",
   "execution_count": 6,
   "id": "9851b27f",
   "metadata": {},
   "outputs": [
    {
     "data": {
      "text/plain": [
       "[1, 2, 4, 6]"
      ]
     },
     "execution_count": 6,
     "metadata": {},
     "output_type": "execute_result"
    }
   ],
   "source": [
    "lst_1"
   ]
  },
  {
   "cell_type": "code",
   "execution_count": 7,
   "id": "37f85ca4",
   "metadata": {},
   "outputs": [
    {
     "data": {
      "text/plain": [
       "['Red', 'Green', 'Blue']"
      ]
     },
     "execution_count": 7,
     "metadata": {},
     "output_type": "execute_result"
    }
   ],
   "source": [
    "lst_2"
   ]
  },
  {
   "cell_type": "code",
   "execution_count": 9,
   "id": "d7cb9f6b",
   "metadata": {},
   "outputs": [
    {
     "name": "stdout",
     "output_type": "stream",
     "text": [
      "['Ali', 29, 'Ahmed', 21, 'Zaid', 26, True]\n"
     ]
    }
   ],
   "source": [
    "names_age = [\"Ali\" , 29 , \"Ahmed\" , 21 , \"Zaid\" , 26, True]\n",
    "print(names_age)"
   ]
  },
  {
   "cell_type": "markdown",
   "id": "4957857f",
   "metadata": {},
   "source": [
    "As we can see, a single list can contain items of different data types.\n",
    "\n"
   ]
  },
  {
   "cell_type": "markdown",
   "id": "5ad9cb68",
   "metadata": {},
   "source": [
    "## List Index \n",
    "\n",
    "Each item/element in a list has its own unique index. This index can be used to access any particular item from the list. The first item has index [0], second item has index [1], third item has index [2] and so on."
   ]
  },
  {
   "cell_type": "code",
   "execution_count": 13,
   "id": "c72f29ca",
   "metadata": {},
   "outputs": [
    {
     "name": "stdout",
     "output_type": "stream",
     "text": [
      "3\n"
     ]
    }
   ],
   "source": [
    "lst_2 =  [\"Chair\" , \"Table\" , \"Cupboard\"]\n",
    "\n",
    "#          [0]       [1]        [2] \n",
    "\n",
    "print(len(lst_2))"
   ]
  },
  {
   "cell_type": "markdown",
   "id": "1feb8663",
   "metadata": {},
   "source": [
    "## Accessing list items\n",
    "\n",
    "We can access list items by using its index with the square bracket syntax []. For example lst_2[0] will give \"Chair\", lst_2[1] will give \"Table\" and so on..."
   ]
  },
  {
   "cell_type": "markdown",
   "id": "1e2b1dd4",
   "metadata": {},
   "source": [
    "### Positive Indexing:\n",
    "As we have seen that list items have index, as such we can access items using these indexes."
   ]
  },
  {
   "cell_type": "code",
   "execution_count": 12,
   "id": "dc911acc",
   "metadata": {},
   "outputs": [
    {
     "name": "stdout",
     "output_type": "stream",
     "text": [
      "Chair\n",
      "Table\n",
      "Cupboard\n"
     ]
    },
    {
     "ename": "IndexError",
     "evalue": "list index out of range",
     "output_type": "error",
     "traceback": [
      "\u001b[1;31m---------------------------------------------------------------------------\u001b[0m",
      "\u001b[1;31mIndexError\u001b[0m                                Traceback (most recent call last)",
      "\u001b[1;32m~\\AppData\\Local\\Temp\\ipykernel_7660\\2584819691.py\u001b[0m in \u001b[0;36m<module>\u001b[1;34m\u001b[0m\n\u001b[0;32m      2\u001b[0m \u001b[0mprint\u001b[0m\u001b[1;33m(\u001b[0m\u001b[0mlst_2\u001b[0m\u001b[1;33m[\u001b[0m\u001b[1;36m1\u001b[0m\u001b[1;33m]\u001b[0m\u001b[1;33m)\u001b[0m\u001b[1;33m\u001b[0m\u001b[1;33m\u001b[0m\u001b[0m\n\u001b[0;32m      3\u001b[0m \u001b[0mprint\u001b[0m\u001b[1;33m(\u001b[0m\u001b[0mlst_2\u001b[0m\u001b[1;33m[\u001b[0m\u001b[1;36m2\u001b[0m\u001b[1;33m]\u001b[0m\u001b[1;33m)\u001b[0m\u001b[1;33m\u001b[0m\u001b[1;33m\u001b[0m\u001b[0m\n\u001b[1;32m----> 4\u001b[1;33m \u001b[0mprint\u001b[0m\u001b[1;33m(\u001b[0m\u001b[0mlst_2\u001b[0m\u001b[1;33m[\u001b[0m\u001b[1;36m3\u001b[0m\u001b[1;33m]\u001b[0m\u001b[1;33m)\u001b[0m \u001b[1;31m# It generates error\u001b[0m\u001b[1;33m\u001b[0m\u001b[1;33m\u001b[0m\u001b[0m\n\u001b[0m",
      "\u001b[1;31mIndexError\u001b[0m: list index out of range"
     ]
    }
   ],
   "source": [
    "print(lst_2[0])\n",
    "print(lst_2[1])\n",
    "print(lst_2[2])\n",
    "print(lst_2[3]) # It generates error"
   ]
  },
  {
   "cell_type": "markdown",
   "id": "4d8838fa",
   "metadata": {},
   "source": [
    "# Negative Indexing:\n",
    "\n",
    "Similar to positive indexing, negative indexing is also used to access items, but from the end of the list. The last item has index [-1], second last item has index [-2], third last item has index [-3] and so on.\n"
   ]
  },
  {
   "cell_type": "code",
   "execution_count": 15,
   "id": "3b4fd4d6",
   "metadata": {},
   "outputs": [
    {
     "name": "stdout",
     "output_type": "stream",
     "text": [
      "Purple\n",
      "Yellow\n",
      "Gray\n",
      "Blue\n",
      "Green\n",
      "Red\n"
     ]
    }
   ],
   "source": [
    "lst_3 = [\"Red\" , \"Green\" , \"Blue\" , \"Gray\" , \"Yellow\" , \"Purple\"]\n",
    "#        [-6]      [-5]     [-4]     [-3]      [-2]      [-1]\n",
    "\n",
    "print(lst_3[-1])\n",
    "print(lst_3[-2])\n",
    "print(lst_3[-3])\n",
    "print(lst_3[-4])\n",
    "print(lst_3[-5])\n",
    "print(lst_3[-6])"
   ]
  },
  {
   "cell_type": "markdown",
   "id": "e1c7aee6",
   "metadata": {},
   "source": [
    "### Check whether an item in present in the list?\n",
    "We can check if a given item is present in the list. This is done using the in keyword.\n",
    " "
   ]
  },
  {
   "cell_type": "code",
   "execution_count": 16,
   "id": "d36f0e19",
   "metadata": {},
   "outputs": [
    {
     "name": "stdout",
     "output_type": "stream",
     "text": [
      "True\n"
     ]
    }
   ],
   "source": [
    "print(\"Yellow\" in lst_3) # it generates True or False"
   ]
  },
  {
   "cell_type": "code",
   "execution_count": 17,
   "id": "55564dc9",
   "metadata": {},
   "outputs": [
    {
     "name": "stdout",
     "output_type": "stream",
     "text": [
      "it is present\n"
     ]
    }
   ],
   "source": [
    "if \"Red\" in lst_3:\n",
    "    print(\"it is present\")\n",
    "else:\n",
    "    print(\"No it is not Present\")"
   ]
  },
  {
   "cell_type": "code",
   "execution_count": 18,
   "id": "68302241",
   "metadata": {},
   "outputs": [
    {
     "name": "stdout",
     "output_type": "stream",
     "text": [
      "['Blue', 'Purple']\n"
     ]
    }
   ],
   "source": [
    "lst_new = []\n",
    "e_in_ele = 0\n",
    "\n",
    "for i in lst_3:\n",
    "    e_in_ele = i\n",
    "    for j in e_in_ele:\n",
    "        if \"u\" == j:\n",
    "            lst_new.append(i)\n",
    "\n",
    "            \n",
    "            \n",
    "print(lst_new)"
   ]
  },
  {
   "cell_type": "code",
   "execution_count": 15,
   "id": "c892f2b0",
   "metadata": {},
   "outputs": [
    {
     "data": {
      "text/plain": [
       "['Red', 'Green', 'Blue', 'Gray', 'Yellow', 'Purple']"
      ]
     },
     "execution_count": 15,
     "metadata": {},
     "output_type": "execute_result"
    }
   ],
   "source": [
    "lst_3"
   ]
  },
  {
   "cell_type": "code",
   "execution_count": 2,
   "id": "3d7c1145",
   "metadata": {},
   "outputs": [
    {
     "name": "stdout",
     "output_type": "stream",
     "text": [
      "Enter the number: 33\n",
      "33 the value greater than 100 \n",
      "\n",
      "34 the value greater than 100 \n",
      "\n",
      "35 the value greater than 100 \n",
      "\n",
      "36 the value greater than 100 \n",
      "\n",
      "37 the value greater than 100 \n",
      "\n",
      "38 the value greater than 100 \n",
      "\n",
      "39 the value greater than 100 \n",
      "\n",
      "40 the value greater than 100 \n",
      "\n",
      "41 the value greater than 100 \n",
      "\n",
      "42 the value greater than 100 \n",
      "\n",
      "43 the value greater than 100 \n",
      "\n",
      "44 the value greater than 100 \n",
      "\n",
      "45 the value greater than 100 \n",
      "\n",
      "46 the value greater than 100 \n",
      "\n",
      "47 the value greater than 100 \n",
      "\n",
      "48 the value greater than 100 \n",
      "\n",
      "49 the value greater than 100 \n",
      "\n",
      "50 the value greater than 100 \n",
      "\n",
      "51 the value greater than 100 \n",
      "\n",
      "52 the value greater than 100 \n",
      "\n",
      "53 the value greater than 100 \n",
      "\n",
      "54 the value greater than 100 \n",
      "\n",
      "55 the value greater than 100 \n",
      "\n",
      "56 the value greater than 100 \n",
      "\n",
      "57 the value greater than 100 \n",
      "\n",
      "58 the value greater than 100 \n",
      "\n",
      "59 the value greater than 100 \n",
      "\n",
      "60 the value greater than 100 \n",
      "\n",
      "61 the value greater than 100 \n",
      "\n",
      "62 the value greater than 100 \n",
      "\n",
      "63 the value greater than 100 \n",
      "\n",
      "64 the value greater than 100 \n",
      "\n",
      "65 the value greater than 100 \n",
      "\n",
      "66 the value greater than 100 \n",
      "\n",
      "67 the value greater than 100 \n",
      "\n",
      "68 the value greater than 100 \n",
      "\n",
      "69 the value greater than 100 \n",
      "\n",
      "70 the value greater than 100 \n",
      "\n",
      "71 the value greater than 100 \n",
      "\n",
      "72 the value greater than 100 \n",
      "\n",
      "73 the value greater than 100 \n",
      "\n",
      "74 the value greater than 100 \n",
      "\n",
      "75 the value greater than 100 \n",
      "\n",
      "76 the value greater than 100 \n",
      "\n",
      "77 the value greater than 100 \n",
      "\n",
      "78 the value greater than 100 \n",
      "\n",
      "79 the value greater than 100 \n",
      "\n",
      "80 the value greater than 100 \n",
      "\n",
      "81 the value greater than 100 \n",
      "\n",
      "82 the value greater than 100 \n",
      "\n",
      "83 the value greater than 100 \n",
      "\n",
      "84 the value greater than 100 \n",
      "\n",
      "85 the value greater than 100 \n",
      "\n",
      "86 the value greater than 100 \n",
      "\n",
      "87 the value greater than 100 \n",
      "\n",
      "88 the value greater than 100 \n",
      "\n",
      "89 the value greater than 100 \n",
      "\n",
      "90 the value greater than 100 \n",
      "\n",
      "91 the value greater than 100 \n",
      "\n",
      "92 the value greater than 100 \n",
      "\n",
      "93 the value greater than 100 \n",
      "\n",
      "94 the value greater than 100 \n",
      "\n",
      "95 the value greater than 100 \n",
      "\n",
      "96 the value greater than 100 \n",
      "\n",
      "97 the value greater than 100 \n",
      "\n",
      "98 the value greater than 100 \n",
      "\n",
      "99 the value greater than 100 \n",
      "\n",
      "100 the value greater than 100 \n",
      "\n"
     ]
    }
   ],
   "source": [
    "str1 = int(input(\"Enter the number: \"))\n",
    "while True:\n",
    "    if str1>100:\n",
    "        break\n",
    "    else:\n",
    "        print(str1 , \"the value greater than 100 \\n\")\n",
    "        str1 = str1+1\n",
    "        continue\n",
    "    "
   ]
  },
  {
   "cell_type": "code",
   "execution_count": 3,
   "id": "f01b62ea",
   "metadata": {},
   "outputs": [
    {
     "name": "stdout",
     "output_type": "stream",
     "text": [
      "15.0\n"
     ]
    }
   ],
   "source": [
    "a = 21\n",
    "b = 7\n",
    "avg = a+b/2\n",
    "print(avg)"
   ]
  },
  {
   "cell_type": "code",
   "execution_count": 4,
   "id": "1f975122",
   "metadata": {},
   "outputs": [],
   "source": [
    "def avg(a , b):\n",
    "    res = a+b/2\n",
    "    print(res)"
   ]
  },
  {
   "cell_type": "code",
   "execution_count": 5,
   "id": "98193517",
   "metadata": {},
   "outputs": [
    {
     "name": "stdout",
     "output_type": "stream",
     "text": [
      "6.0\n",
      "10.0\n",
      "19.5\n"
     ]
    }
   ],
   "source": [
    "avg(5,2)\n",
    "avg(6,8)\n",
    "avg(15 ,9)"
   ]
  },
  {
   "cell_type": "code",
   "execution_count": null,
   "id": "55c14129",
   "metadata": {},
   "outputs": [],
   "source": []
  }
 ],
 "metadata": {
  "kernelspec": {
   "display_name": "Python 3 (ipykernel)",
   "language": "python",
   "name": "python3"
  },
  "language_info": {
   "codemirror_mode": {
    "name": "ipython",
    "version": 3
   },
   "file_extension": ".py",
   "mimetype": "text/x-python",
   "name": "python",
   "nbconvert_exporter": "python",
   "pygments_lexer": "ipython3",
   "version": "3.9.13"
  }
 },
 "nbformat": 4,
 "nbformat_minor": 5
}
