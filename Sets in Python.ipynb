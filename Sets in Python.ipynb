{
 "cells": [
  {
   "cell_type": "markdown",
   "id": "38e52c09",
   "metadata": {},
   "source": [
    "# Sets in Python\n",
    "\n",
    "Sets are unordered collection of data items. They store multiple items in a single variable. Set items are separated by commas and enclosed within curly brackets {}. Sets are unchangeable, meaning you cannot change items of the set once created. Sets do not contain duplicate items."
   ]
  },
  {
   "cell_type": "code",
   "execution_count": 1,
   "id": "5a44cfdf",
   "metadata": {},
   "outputs": [
    {
     "name": "stdout",
     "output_type": "stream",
     "text": [
      "{False, 19, 'Carla', 5.9}\n"
     ]
    }
   ],
   "source": [
    "info = {\"Carla\", 19, False, 5.9, 19}\n",
    "print(info)"
   ]
  },
  {
   "cell_type": "markdown",
   "id": "a0242df3",
   "metadata": {},
   "source": [
    "Here we see that the items of set occur in random order and hence they cannot be accessed using index numbers. Also sets do not allow duplicate values."
   ]
  },
  {
   "cell_type": "markdown",
   "id": "9c1ba202",
   "metadata": {},
   "source": [
    "#### Quick Quiz:\n",
    "Try to create an empty set. Check using the type() function whether the type of your variable is a set"
   ]
  },
  {
   "cell_type": "code",
   "execution_count": 2,
   "id": "f95ba64f",
   "metadata": {},
   "outputs": [],
   "source": [
    "# Write your code here"
   ]
  },
  {
   "cell_type": "markdown",
   "id": "773a1aa3",
   "metadata": {},
   "source": [
    "## Accessing set items:\n",
    "\n",
    "#### Using a For loop\n",
    "\n",
    "You can access items of set using a for loop."
   ]
  },
  {
   "cell_type": "code",
   "execution_count": 3,
   "id": "3fb275eb",
   "metadata": {},
   "outputs": [
    {
     "name": "stdout",
     "output_type": "stream",
     "text": [
      "False\n",
      "5.9\n",
      "19\n",
      "Carla\n"
     ]
    }
   ],
   "source": [
    "info = {\"Carla\", 19, False, 5.9}\n",
    "for item in info:\n",
    "    print(item)"
   ]
  },
  {
   "cell_type": "markdown",
   "id": "8947f8fa",
   "metadata": {},
   "source": [
    "# Joining Sets\n",
    "Sets in python more or less work in the same way as sets in mathematics. We can perform operations like union and intersection on the sets just like in mathematics."
   ]
  },
  {
   "cell_type": "markdown",
   "id": "bf91e00e",
   "metadata": {},
   "source": [
    "## union() and update():\n",
    "\n",
    "The union() and update() methods prints all items that are present in the two sets. The union() method returns a new set whereas update() method adds item into the existing set from another set."
   ]
  },
  {
   "cell_type": "code",
   "execution_count": 4,
   "id": "1de4e9bb",
   "metadata": {},
   "outputs": [
    {
     "name": "stdout",
     "output_type": "stream",
     "text": [
      "{'Madrid', 'Delhi', 'Tokyo', 'Berlin', 'Seoul', 'Kabul'}\n"
     ]
    }
   ],
   "source": [
    "cities = {\"Tokyo\", \"Madrid\", \"Berlin\", \"Delhi\"}\n",
    "cities2 = {\"Tokyo\", \"Seoul\", \"Kabul\", \"Madrid\"}\n",
    "cities3 = cities.union(cities2)\n",
    "print(cities3)"
   ]
  },
  {
   "cell_type": "code",
   "execution_count": 5,
   "id": "88b9947b",
   "metadata": {},
   "outputs": [
    {
     "name": "stdout",
     "output_type": "stream",
     "text": [
      "{'Madrid', 'Delhi', 'Berlin', 'Tokyo', 'Seoul', 'Kabul'}\n"
     ]
    }
   ],
   "source": [
    "cities = {\"Tokyo\", \"Madrid\", \"Berlin\", \"Delhi\"}\n",
    "cities2 = {\"Tokyo\", \"Seoul\", \"Kabul\", \"Madrid\"}\n",
    "cities.update(cities2)\n",
    "print(cities)"
   ]
  },
  {
   "cell_type": "markdown",
   "id": "29e44dad",
   "metadata": {},
   "source": [
    "### intersection and intersection_update(): "
   ]
  },
  {
   "cell_type": "markdown",
   "id": "fdc3c4d2",
   "metadata": {},
   "source": [
    "The intersection() and intersection_update() methods prints only items that are similar to both the sets. The intersection() method returns a new set whereas intersection_update() method updates into the existing set from another set."
   ]
  },
  {
   "cell_type": "code",
   "execution_count": 6,
   "id": "36b8da9e",
   "metadata": {},
   "outputs": [
    {
     "name": "stdout",
     "output_type": "stream",
     "text": [
      "{'Madrid', 'Tokyo'}\n"
     ]
    }
   ],
   "source": [
    "cities = {\"Tokyo\", \"Madrid\", \"Berlin\", \"Delhi\"}\n",
    "cities2 = {\"Tokyo\", \"Seoul\", \"Kabul\", \"Madrid\"}\n",
    "cities3 = cities.intersection(cities2)\n",
    "print(cities3)"
   ]
  },
  {
   "cell_type": "markdown",
   "id": "5e2a7cd0",
   "metadata": {},
   "source": [
    "## symmetric_difference and symmetric_difference_update():"
   ]
  },
  {
   "cell_type": "markdown",
   "id": "7ff84e54",
   "metadata": {},
   "source": [
    "The symmetric_difference() and symmetric_difference_update() methods prints only items that are not similar to both the sets. The symmetric_difference() method returns a new set whereas symmetric_difference_update() method updates into the existing set from another set."
   ]
  },
  {
   "cell_type": "code",
   "execution_count": 7,
   "id": "2e2e0aec",
   "metadata": {},
   "outputs": [
    {
     "name": "stdout",
     "output_type": "stream",
     "text": [
      "{'Delhi', 'Berlin', 'Seoul', 'Kabul'}\n"
     ]
    }
   ],
   "source": [
    "cities = {\"Tokyo\", \"Madrid\", \"Berlin\", \"Delhi\"}\n",
    "cities2 = {\"Tokyo\", \"Seoul\", \"Kabul\", \"Madrid\"}\n",
    "cities3 = cities.symmetric_difference(cities2)\n",
    "print(cities3)"
   ]
  },
  {
   "cell_type": "code",
   "execution_count": 8,
   "id": "e461927d",
   "metadata": {},
   "outputs": [
    {
     "name": "stdout",
     "output_type": "stream",
     "text": [
      "{'Delhi', 'Berlin', 'Seoul', 'Kabul'}\n"
     ]
    }
   ],
   "source": [
    "cities = {\"Tokyo\", \"Madrid\", \"Berlin\", \"Delhi\"}\n",
    "cities2 = {\"Tokyo\", \"Seoul\", \"Kabul\", \"Madrid\"}\n",
    "cities.symmetric_difference_update(cities2)\n",
    "print(cities)"
   ]
  },
  {
   "cell_type": "markdown",
   "id": "57bf990c",
   "metadata": {},
   "source": [
    "## difference() and difference_update():\n",
    "\n",
    "The difference() and difference_update() methods prints only items that are only present in the original set and not in both the sets. The difference() method returns a new set whereas difference_update() method updates into the existing set from another set."
   ]
  },
  {
   "cell_type": "code",
   "execution_count": null,
   "id": "b7ad1186",
   "metadata": {},
   "outputs": [],
   "source": []
  }
 ],
 "metadata": {
  "kernelspec": {
   "display_name": "Python 3 (ipykernel)",
   "language": "python",
   "name": "python3"
  },
  "language_info": {
   "codemirror_mode": {
    "name": "ipython",
    "version": 3
   },
   "file_extension": ".py",
   "mimetype": "text/x-python",
   "name": "python",
   "nbconvert_exporter": "python",
   "pygments_lexer": "ipython3",
   "version": "3.9.13"
  }
 },
 "nbformat": 4,
 "nbformat_minor": 5
}
